{
  "nbformat": 4,
  "nbformat_minor": 0,
  "metadata": {
    "colab": {
      "name": "8-6 music deployment",
      "provenance": [],
      "authorship_tag": "ABX9TyOfm2eW3eOf8z6NAQLi82tQ",
      "include_colab_link": true
    },
    "kernelspec": {
      "name": "python3",
      "display_name": "Python 3"
    },
    "language_info": {
      "name": "python"
    }
  },
  "cells": [
    {
      "cell_type": "markdown",
      "metadata": {
        "id": "view-in-github",
        "colab_type": "text"
      },
      "source": [
        "<a href=\"https://colab.research.google.com/github/rushidarge/Music-Generator-Ai/blob/main/8_6_music_deployment.ipynb\" target=\"_parent\"><img src=\"https://colab.research.google.com/assets/colab-badge.svg\" alt=\"Open In Colab\"/></a>"
      ]
    },
    {
      "cell_type": "code",
      "metadata": {
        "colab": {
          "base_uri": "https://localhost:8080/",
          "height": 633
        },
        "id": "KupEhQQS45A1",
        "outputId": "2f00d5b1-22a9-4356-c652-78aeccc48723"
      },
      "source": [
        "!pip install -q streamlit\n",
        "!pip install colab-everything"
      ],
      "execution_count": 8,
      "outputs": [
        {
          "output_type": "stream",
          "text": [
            "\u001b[K     |████████████████████████████████| 8.2MB 3.1MB/s \n",
            "\u001b[K     |████████████████████████████████| 174kB 41.2MB/s \n",
            "\u001b[K     |████████████████████████████████| 4.2MB 31.0MB/s \n",
            "\u001b[K     |████████████████████████████████| 81kB 9.8MB/s \n",
            "\u001b[K     |████████████████████████████████| 112kB 60.5MB/s \n",
            "\u001b[K     |████████████████████████████████| 71kB 8.6MB/s \n",
            "\u001b[K     |████████████████████████████████| 122kB 51.8MB/s \n",
            "\u001b[?25h  Building wheel for blinker (setup.py) ... \u001b[?25l\u001b[?25hdone\n",
            "\u001b[31mERROR: google-colab 1.0.0 has requirement ipykernel~=4.10, but you'll have ipykernel 5.5.5 which is incompatible.\u001b[0m\n",
            "Collecting colab-everything\n",
            "  Downloading https://files.pythonhosted.org/packages/da/00/48d2d30ca813f0e2b274431a47ebde08c1774dad7422129627f13a0a1cbb/colab_everything-0.0.9-py3-none-any.whl\n",
            "Collecting urllib3==1.25.10\n",
            "\u001b[?25l  Downloading https://files.pythonhosted.org/packages/9f/f0/a391d1463ebb1b233795cabfc0ef38d3db4442339de68f847026199e69d7/urllib3-1.25.10-py2.py3-none-any.whl (127kB)\n",
            "\u001b[K     |████████████████████████████████| 133kB 2.2MB/s \n",
            "\u001b[?25hCollecting pyngrok\n",
            "\u001b[?25l  Downloading https://files.pythonhosted.org/packages/6b/4e/a2fe095bbe17cf26424c4abcd22a0490e22d01cc628f25af5e220ddbf6f0/pyngrok-5.0.5.tar.gz (745kB)\n",
            "\u001b[K     |████████████████████████████████| 747kB 3.7MB/s \n",
            "\u001b[?25hRequirement already satisfied: PyYAML in /usr/local/lib/python3.7/dist-packages (from pyngrok->colab-everything) (3.13)\n",
            "Building wheels for collected packages: pyngrok\n",
            "  Building wheel for pyngrok (setup.py) ... \u001b[?25l\u001b[?25hdone\n",
            "  Created wheel for pyngrok: filename=pyngrok-5.0.5-cp37-none-any.whl size=19262 sha256=912780feb8d14236beeccd8baba13b369e851721a058afe516dd49526413b877\n",
            "  Stored in directory: /root/.cache/pip/wheels/0c/13/64/5ebbcc22eaf53fdf5766b397c1fb17c83f5775fdccf0ea1b88\n",
            "Successfully built pyngrok\n",
            "\u001b[31mERROR: google-colab 1.0.0 has requirement ipykernel~=4.10, but you'll have ipykernel 5.5.5 which is incompatible.\u001b[0m\n",
            "\u001b[31mERROR: datascience 0.10.6 has requirement folium==0.2.1, but you'll have folium 0.8.3 which is incompatible.\u001b[0m\n",
            "Installing collected packages: urllib3, pyngrok, colab-everything\n",
            "  Found existing installation: urllib3 1.24.3\n",
            "    Uninstalling urllib3-1.24.3:\n",
            "      Successfully uninstalled urllib3-1.24.3\n",
            "Successfully installed colab-everything-0.0.9 pyngrok-5.0.5 urllib3-1.25.10\n"
          ],
          "name": "stdout"
        },
        {
          "output_type": "display_data",
          "data": {
            "application/vnd.colab-display-data+json": {
              "pip_warning": {
                "packages": [
                  "urllib3"
                ]
              }
            }
          },
          "metadata": {
            "tags": []
          }
        }
      ]
    },
    {
      "cell_type": "code",
      "metadata": {
        "id": "Lv6h3A6DLg6q"
      },
      "source": [
        "import numpy as np\n",
        "# from path import Path\n",
        "from tqdm import tqdm\n",
        "\n",
        "from keras.utils.np_utils import to_categorical\n",
        "from keras.models import Sequential\n",
        "from keras.layers import Dense, LSTM, Dropout, Activation, Embedding\n",
        "\n",
        "from keras.layers import BatchNormalization as BatchNorm\n",
        "from keras.callbacks import ModelCheckpoint"
      ],
      "execution_count": 1,
      "outputs": []
    },
    {
      "cell_type": "code",
      "metadata": {
        "id": "75fFkLsLMJ4v"
      },
      "source": [
        "import requests\n",
        "url = 'https://raw.githubusercontent.com/rushidarge/Music-Generator-Ai/main/data/input.txt'\n",
        "page = requests.get(url)\n",
        "notes = page.text"
      ],
      "execution_count": 2,
      "outputs": []
    },
    {
      "cell_type": "code",
      "metadata": {
        "colab": {
          "base_uri": "https://localhost:8080/"
        },
        "id": "br9w-BvDTqeR",
        "outputId": "5ab9be6c-fb25-461b-a756-3362d1effbc7"
      },
      "source": [
        "type(notes)"
      ],
      "execution_count": 3,
      "outputs": [
        {
          "output_type": "execute_result",
          "data": {
            "text/plain": [
              "str"
            ]
          },
          "metadata": {
            "tags": []
          },
          "execution_count": 3
        }
      ]
    },
    {
      "cell_type": "code",
      "metadata": {
        "id": "pLn0zdOZLqBj"
      },
      "source": [
        "n_vocab = len(set(notes))"
      ],
      "execution_count": 4,
      "outputs": []
    },
    {
      "cell_type": "code",
      "metadata": {
        "id": "XqjOdJLYMlxo"
      },
      "source": [
        "pitches = sorted(set(item for item in notes))\n",
        "char_to_int = dict((num,char) for char,num in enumerate(pitches))\n",
        "int_to_char = dict((char,num) for char,num in enumerate(pitches))"
      ],
      "execution_count": 5,
      "outputs": []
    },
    {
      "cell_type": "code",
      "metadata": {
        "colab": {
          "base_uri": "https://localhost:8080/"
        },
        "id": "8nLn_YkjOG23",
        "outputId": "1d76386b-2ecc-41ab-ec1c-6312adf8a1d7"
      },
      "source": [
        "no_inputs = np.random.randint(2000,15000)\n",
        "no_inputs"
      ],
      "execution_count": 6,
      "outputs": [
        {
          "output_type": "execute_result",
          "data": {
            "text/plain": [
              "10675"
            ]
          },
          "metadata": {
            "tags": []
          },
          "execution_count": 6
        }
      ]
    },
    {
      "cell_type": "code",
      "metadata": {
        "id": "blC2a2CrOfu6"
      },
      "source": [
        ""
      ],
      "execution_count": 6,
      "outputs": []
    },
    {
      "cell_type": "code",
      "metadata": {
        "colab": {
          "base_uri": "https://localhost:8080/"
        },
        "id": "tGugw39wMusZ",
        "outputId": "c5a445b2-6dc3-4cf1-a167-bbf9085a5d36"
      },
      "source": [
        "sequence_length = 100\n",
        "inputs = []\n",
        "outputs = []\n",
        "for i in tqdm(range(0,no_inputs-sequence_length)):\n",
        "    temp_input = notes[i:i+sequence_length] \n",
        "    temp_out = notes[i+sequence_length]\n",
        "    inputs.append([char_to_int[note] for note in temp_input])\n",
        "    outputs.append(char_to_int[temp_out])\n",
        "n_patterns = len(inputs)\n",
        "# reshape the input into a format compatible with LSTM layers\n",
        "network_input = np.reshape(inputs, (n_patterns, sequence_length, 1))\n",
        "# normalize input for better accuracy\n",
        "network_input = network_input/np.float(n_vocab)\n",
        "# network_output = to_categorical(outputs)"
      ],
      "execution_count": 7,
      "outputs": [
        {
          "output_type": "stream",
          "text": [
            "100%|██████████| 10575/10575 [00:00<00:00, 95484.54it/s]\n"
          ],
          "name": "stderr"
        }
      ]
    },
    {
      "cell_type": "code",
      "metadata": {
        "id": "EPjcn7FKNozg"
      },
      "source": [
        "from keras.models import load_model\n",
        "model = load_model('/content/kag0706new_music-weights-12-1.2942-bigger.hdf5')"
      ],
      "execution_count": 9,
      "outputs": []
    },
    {
      "cell_type": "code",
      "metadata": {
        "colab": {
          "base_uri": "https://localhost:8080/",
          "height": 137
        },
        "id": "xiZCi52SLYoT",
        "outputId": "691104ae-6069-4700-d76c-e6b8380605ec"
      },
      "source": [
        "pattern = network_input[np.random.randint(0,len(network_input))]\n",
        "prediction_output = []\n",
        "\n",
        "# generate 500 notes\n",
        "for i in tqdm(range(300)):\n",
        "    prediction_input = np.reshape(pattern, (1, len(pattern), 1))\n",
        "    prediction_input = prediction_input / float(n_vocab)\n",
        "\n",
        "    prediction = model.predict(prediction_input, verbose=0)\n",
        "\n",
        "    index = np.argmax(prediction)\n",
        "    result = int_to_char[index]\n",
        "    prediction_output.append(result)\n",
        "\n",
        "    pattern = np.append(pattern,index)\n",
        "    pattern = pattern[1:len(pattern)]\n",
        "' '.join([str(elem) for elem in prediction_output])"
      ],
      "execution_count": 10,
      "outputs": [
        {
          "output_type": "stream",
          "text": [
            "100%|██████████| 300/300 [01:04<00:00,  4.66it/s]\n"
          ],
          "name": "stderr"
        },
        {
          "output_type": "execute_result",
          "data": {
            "application/vnd.google.colaboratory.intrinsic+json": {
              "type": "string"
            },
            "text/plain": [
              "'\" A \" A , \\n \\n A C / 4 2 B B , 4 2 A B , 4 2 A B , 4 2 A B , 4 2 C B , 4 2 C B , 4 2 C B , 4 2 C B , 4 2 C B , 4 2 A B , A A A \\n \\n \" A \" A , 3 2 2 A A / 4 2 A A A / 4 4 \" A / 4 4 2 \" A A / 4 2 A A A / 4 4 A A A / 4 4 4 2 3 \" A \" A , 4 4 2 \" A A / 4 2 A A A / 4 4 | / | | | \\\\ \\n | | | | | | | | | | | | | | | | | | | | | | | | | | | | | | | | \\n \\\\ : | 2 2 2 2 2 3 2 2 2 2 2 2 2 2 C A A B / 4 2 A \" A / \\n B | / 4 2 A B / 4 2 A B A / 4 4 A B / 4 4 A , / A A , / / A A , \\n 4 4 2 C A A / 4 4 A A / 4 4 A B / 4 4 A B / 4 4 A B / 4 4 A B / 4 4 A B / 4 4 A B / 4 4 A c \\n 4 4 4 A d \\n 4 4 4 A A / 4 4 A | | | | |'"
            ]
          },
          "metadata": {
            "tags": []
          },
          "execution_count": 10
        }
      ]
    },
    {
      "cell_type": "code",
      "metadata": {
        "id": "EwEA5EhDPiwe"
      },
      "source": [
        "%%writefile app.py\n",
        "import streamlit as st\n",
        "from tqdm import tqdm\n",
        "import numpy as np\n",
        "\n",
        "from keras.models import load_model\n",
        "from keras.utils.np_utils import to_categorical\n",
        "from keras.models import Sequential\n",
        "from keras.layers import Dense, LSTM, Dropout, Activation, Embedding\n",
        "\n",
        "from keras.layers import BatchNormalization as BatchNorm\n",
        "from keras.callbacks import ModelCheckpoint\n",
        "\n",
        "import requests\n",
        "\n",
        "st.write(\"\"\"\n",
        "         # Music Generator Ai\n",
        "         \"\"\"\n",
        "         )\n",
        "st.write(\"This app gives you musical notes that are generated by Ai\")\n",
        "# file = st.file_uploader(\"Please upload an image file\", type=[\"jpg\", \"png\"])\t\n",
        "# st.button('Predict')\n",
        "\n",
        "# load weights into new model\n",
        "model = load_model(\"/content/kag0706new_music-weights-12-1.2942-bigger.hdf5\",compile=False)\n",
        "\n",
        "import requests\n",
        "url = 'https://raw.githubusercontent.com/rushidarge/Music-Generator-Ai/main/data/input.txt'\n",
        "page = requests.get(url)\n",
        "notes = page.text\n",
        "\n",
        "n_vocab = len(set(notes))\n",
        "pitches = sorted(set(item for item in notes))\n",
        "char_to_int = dict((num,char) for char,num in enumerate(pitches))\n",
        "int_to_char = dict((char,num) for char,num in enumerate(pitches))\n",
        "no_inputs = np.random.randint(2000,15000)\n",
        "\n",
        "sequence_length = 100\n",
        "inputs = []\n",
        "outputs = []\n",
        "for i in tqdm(range(0,no_inputs-sequence_length)):\n",
        "    temp_input = notes[i:i+sequence_length] \n",
        "    temp_out = notes[i+sequence_length]\n",
        "    inputs.append([char_to_int[note] for note in temp_input])\n",
        "    outputs.append(char_to_int[temp_out])\n",
        "n_patterns = len(inputs)\n",
        "# reshape the input into a format compatible with LSTM layers\n",
        "network_input = np.reshape(inputs, (n_patterns, sequence_length, 1))\n",
        "# normalize input for better accuracy\n",
        "network_input = network_input/np.float(n_vocab)\n",
        "# network_output = to_categorical(outputs)\n",
        "\n",
        "def prediction_out():\n",
        "    pattern = network_input[np.random.randint(0,len(network_input))]\n",
        "    prediction_output = []\n",
        "\n",
        "    # generate 500 notes\n",
        "    for i in tqdm(range(50)):\n",
        "        prediction_input = np.reshape(pattern, (1, len(pattern), 1))\n",
        "        prediction_input = prediction_input / float(n_vocab)\n",
        "\n",
        "        prediction = model.predict(prediction_input, verbose=0)\n",
        "\n",
        "        index = np.argmax(prediction)\n",
        "        result = int_to_char[index]\n",
        "        prediction_output.append(result)\n",
        "\n",
        "        pattern = np.append(pattern,index)\n",
        "        pattern = pattern[1:len(pattern)]\n",
        "    return ' '.join([str(elem) for elem in prediction_output])\n",
        "# ' '.join([str(elem) for elem in prediction_output])\n",
        "\n",
        "if st.button('Predict'):\n",
        "    result = prediction_out()\n",
        "    st.write('Your abc music notations \\n')\n",
        "    st.write(result)"
      ],
      "execution_count": null,
      "outputs": []
    },
    {
      "cell_type": "code",
      "metadata": {
        "colab": {
          "base_uri": "https://localhost:8080/",
          "height": 443
        },
        "id": "WD8DOw9V8gOs",
        "outputId": "cb704f1b-44f2-4129-a4db-4086e44bf7f6"
      },
      "source": [
        "from colab_everything import ColabStreamlit\n",
        "ColabStreamlit('/content/app.py')"
      ],
      "execution_count": 26,
      "outputs": [
        {
          "output_type": "stream",
          "text": [
            "Web App can be accessed on: http://641becc76d87.ngrok.io\n",
            "\n",
            "  You can now view your Streamlit app in your browser.\n",
            "\n",
            "  Network URL: http://172.28.0.2:9999\n",
            "  External URL: http://35.232.255.45:9999\n",
            "\n"
          ],
          "name": "stdout"
        },
        {
          "output_type": "error",
          "ename": "KeyboardInterrupt",
          "evalue": "ignored",
          "traceback": [
            "\u001b[0;31m---------------------------------------------------------------------------\u001b[0m",
            "\u001b[0;31mKeyboardInterrupt\u001b[0m                         Traceback (most recent call last)",
            "\u001b[0;32m<ipython-input-26-5be0ebe39d47>\u001b[0m in \u001b[0;36m<module>\u001b[0;34m()\u001b[0m\n\u001b[1;32m      1\u001b[0m \u001b[0;32mfrom\u001b[0m \u001b[0mcolab_everything\u001b[0m \u001b[0;32mimport\u001b[0m \u001b[0mColabStreamlit\u001b[0m\u001b[0;34m\u001b[0m\u001b[0;34m\u001b[0m\u001b[0m\n\u001b[0;32m----> 2\u001b[0;31m \u001b[0mColabStreamlit\u001b[0m\u001b[0;34m(\u001b[0m\u001b[0;34m'/content/app.py'\u001b[0m\u001b[0;34m)\u001b[0m\u001b[0;34m\u001b[0m\u001b[0;34m\u001b[0m\u001b[0m\n\u001b[0m",
            "\u001b[0;32m/usr/local/lib/python3.7/dist-packages/colab_everything/core.py\u001b[0m in \u001b[0;36m__init__\u001b[0;34m(self, path, port)\u001b[0m\n\u001b[1;32m     27\u001b[0m         \u001b[0msuper\u001b[0m\u001b[0;34m(\u001b[0m\u001b[0;34m)\u001b[0m\u001b[0;34m.\u001b[0m\u001b[0m__init__\u001b[0m\u001b[0;34m(\u001b[0m\u001b[0mport\u001b[0m\u001b[0;34m)\u001b[0m\u001b[0;34m\u001b[0m\u001b[0;34m\u001b[0m\u001b[0m\n\u001b[1;32m     28\u001b[0m         \u001b[0mself\u001b[0m\u001b[0;34m.\u001b[0m\u001b[0mpath\u001b[0m \u001b[0;34m=\u001b[0m \u001b[0mpath\u001b[0m\u001b[0;34m\u001b[0m\u001b[0;34m\u001b[0m\u001b[0m\n\u001b[0;32m---> 29\u001b[0;31m         \u001b[0mself\u001b[0m\u001b[0;34m.\u001b[0m\u001b[0mrun_app\u001b[0m\u001b[0;34m(\u001b[0m\u001b[0;34m)\u001b[0m\u001b[0;34m\u001b[0m\u001b[0;34m\u001b[0m\u001b[0m\n\u001b[0m\u001b[1;32m     30\u001b[0m \u001b[0;34m\u001b[0m\u001b[0m\n\u001b[1;32m     31\u001b[0m     \u001b[0;32mdef\u001b[0m \u001b[0mrun_app\u001b[0m\u001b[0;34m(\u001b[0m\u001b[0mself\u001b[0m\u001b[0;34m,\u001b[0m \u001b[0mdebug\u001b[0m\u001b[0;34m=\u001b[0m\u001b[0;32mTrue\u001b[0m\u001b[0;34m)\u001b[0m\u001b[0;34m:\u001b[0m\u001b[0;34m\u001b[0m\u001b[0;34m\u001b[0m\u001b[0m\n",
            "\u001b[0;32m/usr/local/lib/python3.7/dist-packages/colab_everything/core.py\u001b[0m in \u001b[0;36mrun_app\u001b[0;34m(self, debug)\u001b[0m\n\u001b[1;32m     39\u001b[0m             \u001b[0muniversal_newlines\u001b[0m\u001b[0;34m=\u001b[0m\u001b[0;32mTrue\u001b[0m\u001b[0;34m,\u001b[0m\u001b[0;34m\u001b[0m\u001b[0;34m\u001b[0m\u001b[0m\n\u001b[1;32m     40\u001b[0m             ) as proc:\n\u001b[0;32m---> 41\u001b[0;31m                 \u001b[0;32mfor\u001b[0m \u001b[0mline\u001b[0m \u001b[0;32min\u001b[0m \u001b[0mproc\u001b[0m\u001b[0;34m.\u001b[0m\u001b[0mstdout\u001b[0m\u001b[0;34m:\u001b[0m\u001b[0;34m\u001b[0m\u001b[0;34m\u001b[0m\u001b[0m\n\u001b[0m\u001b[1;32m     42\u001b[0m                     \u001b[0;32mif\u001b[0m \u001b[0mdebug\u001b[0m\u001b[0;34m:\u001b[0m \u001b[0mprint\u001b[0m\u001b[0;34m(\u001b[0m\u001b[0mline\u001b[0m\u001b[0;34m,\u001b[0m \u001b[0mend\u001b[0m\u001b[0;34m=\u001b[0m\u001b[0;34m\"\"\u001b[0m\u001b[0;34m)\u001b[0m\u001b[0;34m\u001b[0m\u001b[0;34m\u001b[0m\u001b[0m\n\u001b[1;32m     43\u001b[0m \u001b[0;34m\u001b[0m\u001b[0m\n",
            "\u001b[0;31mKeyboardInterrupt\u001b[0m: "
          ]
        }
      ]
    },
    {
      "cell_type": "code",
      "metadata": {
        "id": "glZs_4ZU8p7p"
      },
      "source": [
        ""
      ],
      "execution_count": null,
      "outputs": []
    }
  ]
}